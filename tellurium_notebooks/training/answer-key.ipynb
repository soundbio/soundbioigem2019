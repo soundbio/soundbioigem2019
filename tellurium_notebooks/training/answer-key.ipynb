{
  "cells": [
    {
      "cell_type": "code",
      "source": [
        "model r()\n",
        "# This model describes simple central dogma\n",
        "    J0: -> M ; a_m        #production of mRNA\n",
        "    J1: M -> ; d_m*M      #degradation of mRNA \n",
        "    J2: M -> P ; a_p*M    #production of protein\n",
        "    J3: P -> ; d_p*P      #degradation of protein\n",
        "    \n",
        "    # Parameters\n",
        "    a_m = 10; d_m = 1     #prod and deg of mRNA\n",
        "    a_p = 500; d_p = 0.05 #prod and deg of protein\n",
        "    \n",
        "    # Initial values (every species needs I.V.)\n",
        "    M = 0\n",
        "    P = 0\n",
        "end"
      ],
      "outputs": [],
      "execution_count": 8,
      "metadata": {
        "collapsed": false,
        "outputHidden": false,
        "inputHidden": false,
        "tellurium": {
          "te_cell_type": "antimony"
        }
      }
    },
    {
      "cell_type": "code",
      "source": [
        "import numpy as np\n",
        "import matplotlib.pyplot as plt\n",
        "import tellurium as te \n",
        "import time"
      ],
      "outputs": [],
      "execution_count": 13,
      "metadata": {
        "collapsed": false,
        "outputHidden": false,
        "inputHidden": false
      }
    },
    {
      "cell_type": "code",
      "source": [
        "#clears out any previous simulation results if it exists\n",
        "r.reset() \n",
        "\n",
        "#the simulation is run, and is saved in \"r.model\", \n",
        "#but results are also stored in \"result\" by the line below\n",
        "result = r.simulate(0,200,1000) #(start, end, timepoints)\n",
        "\n",
        "# Find the steady-state value of Protein\n",
        "P_ss = result[-1,2]\n",
        "\n",
        "r.plot() # quick plot of model results\n",
        "#You can do something like the following to alter the quick plot\n",
        "#r.plot(ylim=[0,300])"
      ],
      "outputs": [],
      "execution_count": 10,
      "metadata": {
        "collapsed": false,
        "outputHidden": false,
        "inputHidden": false
      }
    },
    {
      "cell_type": "code",
      "source": [
        "### Plotting \"result\" using matplotlib (more customizable)\n",
        "#plot mRMA\n",
        "plt.figure(1)\n",
        "plt.subplot(211)\n",
        "plt.plot(result[:,0], result[:,1], 'r', label = \"mRNA\")\n",
        "plt.ylabel('Copies', fontsize='12') \n",
        "plt.xlabel('Time (hr)', fontsize='12')\n",
        "plt.legend(loc=4)\n",
        "#plot protein\n",
        "plt.subplot(212)\n",
        "plt.plot(result[:,0], result[:,2], 'b', label = \"Protein\")\n",
        "plt.plot([0,200], [P_ss,P_ss], 'k--', label = \"Steady-State\")\n",
        "plt.ylim([0,120000])\n",
        "plt.ylabel('Copies', fontsize='12') \n",
        "plt.xlabel('Time (hr)', fontsize='12')\n",
        "plt.legend(loc=4)\n",
        "plt.tight_layout()"
      ],
      "outputs": [],
      "execution_count": 11,
      "metadata": {
        "collapsed": false,
        "outputHidden": false,
        "inputHidden": false
      }
    },
    {
      "cell_type": "code",
      "source": [
        "#%% Doing a parametric sweep using a for loop\n",
        "\n",
        "# Investigate the input output relationship between \n",
        "# steady state Protein levels (P_ss)\n",
        "# and mRNA production rate (a_m)\n",
        "# or mRNA decay rate (d_m)\n",
        "\n",
        "a_m = np.linspace(1,50,50)\n",
        "#d_m = np.linspace(0.01, 10,10)     \n",
        "d_m = np.array([0.0001,0.001,0.01,0.1,1,10,100])\n",
        "P_ss = np.zeros(len(d_m))\n",
        "T_r = np.zeros(len(d_m))\n",
        "count = 0\n",
        "for i in d_m:\n",
        "    r = te.loada(\"\"\"\n",
        "        J0: -> M ; a_m\n",
        "        J1: M -> ; d_m*M\n",
        "        J2: M -> P ; a_p*M\n",
        "        J3: P -> ; d_p*P\n",
        "        \n",
        "        # Parameters\n",
        "        a_m = 10\n",
        "        a_p = 500; d_p = 0.05\n",
        "        \n",
        "        # Initial values\n",
        "        M = 0\n",
        "        P = 0\n",
        "        \"\"\"\n",
        "        # Iterating parameters\n",
        "        \"d_m = \" + str(i) + \";\"\n",
        "    )\n",
        "    result = r.simulate(0,200,1000)\n",
        "    \n",
        "    # Find the steady-state value\n",
        "    P_ss[count] = result[-1,2]\n",
        "    \n",
        "#    print 'd_m =',d_m[count] #verbose print of current d_m value\n",
        "    \n",
        "    plt.figure(3)\n",
        "    plt.semilogy(result[:,0],result[:,2],label=d_m[count])\n",
        "    plt.legend()\n",
        "    plt.xlabel(\"time\")\n",
        "    plt.ylabel(\"Protein\")\n",
        "    \n",
        "    plt.figure(4)\n",
        "    plt.plot(result[:,0],result[:,1],label=d_m[count])\n",
        "    plt.legend()\n",
        "    plt.xlabel(\"time\")\n",
        "    plt.ylabel(\"mRNA\")\n",
        "    \n",
        "    time.sleep(.25)\n",
        "   \n",
        "### or you can print them one at a time.\n",
        "#    if d_m[count] < 1:\n",
        "#        r.plot(ylim=[0,10000000])\n",
        "#    if d_m[count] >= 1:\n",
        "#        r.plot(ylim=[0,100000])\n",
        "#    time.sleep(.25)\n",
        "   \n",
        "    count += 1"
      ],
      "outputs": [],
      "execution_count": 18,
      "metadata": {
        "collapsed": false,
        "outputHidden": false,
        "inputHidden": false
      }
    },
    {
      "cell_type": "code",
      "source": [
        "#compare steady-state levels\n",
        "plt.figure(5)\n",
        "plt.hist(P_ss)\n",
        "plt.xlabel(\"Protein value at Steady-state\")"
      ],
      "outputs": [],
      "execution_count": 16,
      "metadata": {
        "collapsed": false,
        "outputHidden": false,
        "inputHidden": false
      }
    },
    {
      "cell_type": "markdown",
      "source": [
        "# Metabolic networks\n",
        "\n",
        "* Assume there is no external degradation unless specified.\n",
        "* Assume all production rates are at unity. \n",
        "* Assume boundary species are set to 10 counts.\n",
        "* Assume initial values of floating species are at 0."
      ],
      "metadata": {}
    },
    {
      "cell_type": "markdown",
      "source": [
        "# Make a model of the first linear pathway\n",
        "<img src=\"https://i.imgur.com/qUU0cea.jpg\" alt=\"drawing\" width=\"1000\"/>"
      ],
      "metadata": {}
    },
    {
      "cell_type": "code",
      "source": [
        "model one\n",
        "    J0: $X0 -> S1 ; v_1 * X0    #you can put a $ sign before a species to set it to a boundary species (concentration doesn't change)\n",
        "    J1: S1 -> S2 ; v_2 * S1\n",
        "    J2: S2 -> S3 ; v_3 * S2 \n",
        "    J3: S3 -> S4 ; v_4 * S3\n",
        "    J4: S4 -> $X1 ; v_5*S4 \n",
        "    \n",
        "    # Parameters\n",
        "    v_1 = 1 \n",
        "    v_2 = 3\n",
        "    v_3 = 5\n",
        "    v_4 = 2\n",
        "    v_5 = 1\n",
        "    \n",
        "    # Initial values\n",
        "    X0 = 10\n",
        "    X1 = 10\n",
        "    S1 = 0\n",
        "    S2 = 0\n",
        "    S3 = 0\n",
        "    S4 = 0\n",
        "end"
      ],
      "outputs": [],
      "execution_count": 22,
      "metadata": {
        "collapsed": false,
        "outputHidden": false,
        "inputHidden": false,
        "tellurium": {
          "te_cell_type": "antimony"
        }
      }
    },
    {
      "cell_type": "code",
      "source": [
        "one.reset()\n",
        "result = one.simulate(0,20,200)\n",
        "one.plot()\n",
        "one.getSteadyStateValues()"
      ],
      "outputs": [],
      "execution_count": 23,
      "metadata": {
        "collapsed": false,
        "outputHidden": false,
        "inputHidden": false
      }
    },
    {
      "cell_type": "markdown",
      "source": [
        "# Make a model of the second pathway (w/ feedback)\n",
        "<img src=\"https://i.imgur.com/LTvgqC2.jpg\" alt=\"drawing\" width=\"800\"/>"
      ],
      "metadata": {}
    },
    {
      "cell_type": "code",
      "source": [
        "model two\n",
        "    J0: $X0 -> S1 ; v_1 * X0 * (K/(K+S3))\n",
        "    J1: S1 -> S2 ; v_2 * S1\n",
        "    J2: S2 -> S3 ; v_3 * S2 \n",
        "    J3: S3 -> $X5 ; v_4 * S3 \n",
        "    # Parameters\n",
        "    K = 10\n",
        "    v_1 = 1\n",
        "    v_2 = 1\n",
        "    v_3 = 1\n",
        "    v_4 = 1\n",
        "    # Initial values\n",
        "    X0 = 5\n",
        "    X5 = 10\n",
        "    S1 = 0\n",
        "    S2 = 0\n",
        "    S3 = 0\n",
        "end"
      ],
      "outputs": [],
      "execution_count": null,
      "metadata": {
        "collapsed": false,
        "outputHidden": false,
        "inputHidden": false,
        "tellurium": {
          "te_cell_type": "antimony"
        }
      }
    },
    {
      "cell_type": "code",
      "source": [
        "two.reset()\n",
        "result = two.simulate(0,30,200)\n",
        "two.plot()"
      ],
      "outputs": [],
      "execution_count": null,
      "metadata": {
        "collapsed": false,
        "outputHidden": false,
        "inputHidden": false
      }
    },
    {
      "cell_type": "markdown",
      "source": [
        "# Make a model of this third complex pathway.\n",
        "<img src=\"https://i.imgur.com/wizPbcl.jpg\" alt=\"drawing\" width=\"600\"/>"
      ],
      "metadata": {}
    },
    {
      "cell_type": "code",
      "source": [
        "model three\n",
        "    J0: -> S1 ; v1\n",
        "    J1: S1 -> S2 ; v2*S1\n",
        "    J2: S2 -> ; v3*S2\n",
        "    J3: S3 -> S1 ; v4*S3\n",
        "    J4: S3 -> S2 ; v5*S3\n",
        "    J5: -> S3 ; v6\n",
        "    \n",
        "    # Parameters\n",
        "    v1 = 1\n",
        "    v2 = 1\n",
        "    v3 = 1\n",
        "    v4 = 1\n",
        "    v5 = 1\n",
        "    v6 = 1\n",
        "    \n",
        "    # Initial values\n",
        "    S1 = 0\n",
        "    S2 = 0\n",
        "    S3 = 0\n",
        "end"
      ],
      "outputs": [],
      "execution_count": 19,
      "metadata": {
        "collapsed": false,
        "outputHidden": false,
        "inputHidden": false,
        "tellurium": {
          "te_cell_type": "antimony"
        }
      }
    },
    {
      "cell_type": "code",
      "source": [
        "three.reset()\n",
        "result = three.simulate(0,30,200)\n",
        "three.plot()"
      ],
      "outputs": [],
      "execution_count": 20,
      "metadata": {
        "collapsed": false,
        "outputHidden": false,
        "inputHidden": false
      }
    }
  ],
  "metadata": {
    "kernelspec": {
      "name": "python3",
      "language": "python",
      "display_name": "Python 3 (built-in)"
    },
    "kernel_info": {
      "name": "python3"
    },
    "language_info": {
      "name": "python",
      "version": "3.6.2",
      "mimetype": "text/x-python",
      "codemirror_mode": {
        "name": "ipython",
        "version": 3
      },
      "pygments_lexer": "ipython3",
      "nbconvert_exporter": "python",
      "file_extension": ".py"
    }
  },
  "nbformat": 4,
  "nbformat_minor": 4
}