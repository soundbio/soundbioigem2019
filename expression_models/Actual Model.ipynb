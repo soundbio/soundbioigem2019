{
  "cells": [
    {
      "cell_type": "markdown",
      "source": [
        "# Model Overview\n",
        "This is a more realistic model of the red genetic circuit with red light; however, it assumes a constant photon flux.\n",
        "\n",
        "### Google Doc Link\n",
        "<https://docs.google.com/document/d/18Im2GLnqtP6Jc8tZakmdTDOo3APeQhNM4pSlQ1j-ZUI/edit?usp=sharing>"
      ],
      "metadata": {}
    },
    {
      "cell_type": "code",
      "source": [
        "model red_withLight()\n",
        "    J0: -> S1 ; v_1 #production of cph8\n",
        "    J1: S1 -> ; v_7 * S1 * p #mutilation of cph8\n",
        "    J2: S1 -> ; v_2 * S1 #degradation of cph8\n",
        "    J3: -> S4 ; v_3 * S3 #production of dCBD-sfGFP\n",
        "    J4: S4 -> ; v_4 * S4 #degradation of dCBD-sfGFP\n",
        "    J5: S2 -> S3 ; S2 * S1 * v_5 #phosphorylation of ompR\n",
        "    J6: -> S2 ; v_9 #production of unphosphorylated OmpR\n",
        "    J7: S3 -> ; S3 * v_6 #degradation of phosphorylated ompR\n",
        "    J8: S2 -> ; S2 * v_8 #degradation of unphosphorylated OmpR\n",
        "    \n",
        "    # Parameters (rates are in s^-1 unless otherwise specifed)\n",
        "    v_1 = 1 #Cph8 production constant\n",
        "    v_2 = 1 #Cph8 degradation constant\n",
        "    v_3 = 0.0002 #dCBD-sfGFP production constant -- KNOWN\n",
        "    v_4 = 0.0003 #dCBD-sfGFP degradation constant -- KNOWN\n",
        "    v_5 = 1.5 #OmpR phosphorylation constant -- KNOWN\n",
        "    v_6 = 0.0001 #Phosphorylated OmpR degradation constant\n",
        "    v_7 = 1 #Cph8 mutilation constant\n",
        "    v_8 = v_6 #Unphosphorylated OmpR degradation constant\n",
        "    v_9 = 0.16736401666 #Unphosphorylated OmpR production constant -- KNOWN\n",
        "    p = 0 #should be very high in red light environments \n",
        "    \n",
        "    # Initial values\n",
        "    S1 = 0 #Cph8\n",
        "    S2 = 3523 #Unphosphorylated OmpR -- KNOWN\n",
        "    S3 = 0 #Phosphorylated ompR\n",
        "    S4 = 0 #dCBD-sfGFP\n",
        "end"
      ],
      "outputs": [],
      "execution_count": null,
      "metadata": {
        "collapsed": false,
        "outputHidden": false,
        "inputHidden": false,
        "tellurium": {
          "te_cell_type": "antimony"
        }
      }
    },
    {
      "cell_type": "code",
      "source": [
        "import tellurium\n",
        "\n",
        "red_withLight.reset()\n",
        "red_withLight.simulate(0, 50, 1000)\n",
        "red_withLight.plot()"
      ],
      "outputs": [],
      "execution_count": null,
      "metadata": {
        "collapsed": false,
        "outputHidden": false,
        "inputHidden": false
      }
    }
  ],
  "metadata": {
    "kernelspec": {
      "name": "python3",
      "language": "python",
      "display_name": "Python 3 (built-in)"
    },
    "kernel_info": {
      "name": "python3"
    },
    "language_info": {
      "name": "python",
      "version": "3.6.2",
      "mimetype": "text/x-python",
      "codemirror_mode": {
        "name": "ipython",
        "version": 3
      },
      "pygments_lexer": "ipython3",
      "nbconvert_exporter": "python",
      "file_extension": ".py"
    }
  },
  "nbformat": 4,
  "nbformat_minor": 4
}