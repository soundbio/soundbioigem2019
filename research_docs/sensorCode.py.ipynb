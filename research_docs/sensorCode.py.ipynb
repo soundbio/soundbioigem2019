{
  "cells": [
    {
      "cell_type": "markdown",
      "source": [
        "This is code for a simple button, I think\n",
        "* writes to pid.txt\n",
        "* Makes timestamp for data being collected"
      ],
      "metadata": {}
    },
    {
      "cell_type": "code",
      "source": [
        "#Collects data and a timestamp every 2 seconds and adds it to testdata.csv;\n",
        "import RPi.GPIO as io\n",
        "import os\n",
        "import time\n",
        "import datetime\n",
        "#writes the current PID to the PID.txt file for access by remote connection\n",
        "#the PID number is necessary for stopping the python file from remote connection\n",
        "with open(\"pid.txt\", 'w') as PID:\n",
        "    PID.write(str(os.getpid()))\n",
        "#sets the pin numbering mode i think to board mode or something\n",
        "io.setmode(io.BCM)\n",
        "#sets up pin \"23\" as an io.in pin\n",
        "io.setup(23, io.IN)\n",
        "\n\n",
        "#loop\n",
        "while True:\n",
        "    ###it makes a timestamp for the data that is being collected\n",
        "    #hari deprecated get date technique\n",
        "    '''date=str(time.localtime()[1])+\"/\"+str(time.localtime()[2])\n",
        "    time=str(time.localtime()[3])+\":\"+str(time.localtime()[4])+\":\"+str(time.localtime()[5])'''\n",
        "    #appends the entry to testdata.csv\n",
        "    with open(\"testdata.csv\", 'a+') as data:\n",
        "    #eric's cooler undeprecated get date technique\n",
        "        dateNow=str(datetime.datetime.now().strftime(\"%m/%d/%Y %H:%M:%S\"))\n",
        "    #writes comma separated date or time stamp and the ***input from the pin***\n",
        "        entry = dateNow + \",\" + str(io.input(23)) + \"\\n\"\n",
        "data.write(entry)\n",
        "    data.close()\n",
        "    #prints to console for easy debugging\n",
        "    print(entry)\n",
        "    #gap between each collection cycle\n",
        "    time.sleep(2)\n",
        "\n",
        "io.cleanup()\n"
      ],
      "outputs": [],
      "execution_count": null,
      "metadata": {
        "collapsed": false,
        "outputHidden": false,
        "inputHidden": false,
        "tellurium": {
          "te_cell_type": "antimony"
        }
      }
    }
  ],
  "metadata": {
    "kernelspec": {
      "name": "python3",
      "language": "python",
      "display_name": "Python 3 (built-in)"
    },
    "kernel_info": {
      "name": "python3"
    },
    "language_info": {
      "name": "python",
      "version": "3.6.2",
      "mimetype": "text/x-python",
      "codemirror_mode": {
        "name": "ipython",
        "version": 3
      },
      "pygments_lexer": "ipython3",
      "nbconvert_exporter": "python",
      "file_extension": ".py"
    }
  },
  "nbformat": 4,
  "nbformat_minor": 4
}