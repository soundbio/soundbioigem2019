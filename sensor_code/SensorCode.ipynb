{
  "cells": [
    {
      "cell_type": "code",
      "source": [
        "#Collects data and a timestamp every 2 seconds and adds it to testdata.csv;\n",
        "import RPi.GPIO as io\n",
        "import os\n",
        "import time\n",
        "import datetime\n",
        "from gpiozero import Robot, DigitalInputDevice\n",
        "from time import sleep\n",
        "\n",
        "def binarytotemp(binary, positive): # binary is a string, positive is a boolean\n",
        "   if positive:\n",
        "       return sum([2**i for i in range(12) if binary[11-i]==\"1\"])/16\n",
        "   else:\n",
        "       return -(sum([2**i for i in range(12) if binary[11-i]==\"0\"])+1)/16\n",
        "   \n",
        "\n",
        "#writes the current PID to the PID.txt file for access by remote connection\n",
        "#the PID number is necessary for stopping the python file from remote connection\n",
        "os.chdir(\"/\")\n",
        "\n",
        "TimeToChange = 5\n",
        "with open(\"home/pi/Desktop/pid.txt\", 'w') as PID:\n",
        "   PID.write(str(os.getpid()))\n",
        "#sets the pin numbering mode i think to board mode or something\n",
        "io.setmode(io.BCM)\n",
        "#sets up pin \"24\" as an io.in pin\n",
        "io.setup(24, io.IN)\n",
        "\n",
        "temperature=0;\n",
        "alltext=\"\";\n",
        "counter=-1\n",
        "\n",
        "#loop\n",
        "while True: #infinite loop\n",
        "   ###it makes a timestamp for the data that is being collected\n",
        "   #appends the entry to testdata.csv\n",
        "   with open(\"sys/bus/w1/devices/28-000008fe746d/w1_slave\", 'r') as source:\n",
        "       alltext=source.read()\n",
        "       while alltext[counter]!=\"=\":\n",
        "           counter=counter-1;\n",
        "       temperature=alltext[counter+1:]/1000\n",
        "       source.close()\n",
        "       \n",
        "   with open(\"home/pi/Desktop/data.csv\", 'a+') as data:\n",
        "   #get date technique\n",
        "       dateNow=str(datetime.datetime.now().strftime(\"%m/%d\"))\n",
        "       timeNow=str(int(datetime.datetime.now().strftime(\"%H\"))*60+int(datetime.datetime.now().strftime(\"%M\")))\n",
        "   #writes comma separated date or time stamp and the ***input from the pin***\n",
        "\n",
        "       entry = dateNow + \",\" + timeNow + \",\" + str(temperature) + \"\\n\"\n",
        "       data.write(entry)\n",
        "       data.close()\n",
        "   #prints to console for easy debugging\n",
        "   print(entry)\n",
        "   #gap between each collection cycle\n",
        "   time.sleep(TimeToChange)\n",
        "\nio.cleanup()"
      ],
      "outputs": [],
      "execution_count": null,
      "metadata": {
        "collapsed": false,
        "outputHidden": false,
        "inputHidden": false
      }
    }
  ],
  "metadata": {
    "kernelspec": {
      "name": "python3",
      "language": "python",
      "display_name": "Python 3 (built-in)"
    },
    "kernel_info": {
      "name": "python3"
    },
    "language_info": {
      "name": "python",
      "version": "3.6.2",
      "mimetype": "text/x-python",
      "codemirror_mode": {
        "name": "ipython",
        "version": 3
      },
      "pygments_lexer": "ipython3",
      "nbconvert_exporter": "python",
      "file_extension": ".py"
    }
  },
  "nbformat": 4,
  "nbformat_minor": 4
}